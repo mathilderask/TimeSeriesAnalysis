{
 "cells": [
  {
   "cell_type": "code",
   "execution_count": 1,
   "metadata": {
    "vscode": {
     "languageId": "r"
    }
   },
   "outputs": [
    {
     "data": {
      "text/html": [
       "<style>\n",
       ".list-inline {list-style: none; margin:0; padding: 0}\n",
       ".list-inline>li {display: inline-block}\n",
       ".list-inline>li:not(:last-child)::after {content: \"\\00b7\"; padding: 0 .5ex}\n",
       "</style>\n",
       "<ol class=list-inline><li>-52.4810638193473</li><li>0.0275290128809597</li></ol>\n"
      ],
      "text/latex": [
       "\\begin{enumerate*}\n",
       "\\item -52.4810638193473\n",
       "\\item 0.0275290128809597\n",
       "\\end{enumerate*}\n"
      ],
      "text/markdown": [
       "1. -52.4810638193473\n",
       "2. 0.0275290128809597\n",
       "\n",
       "\n"
      ],
      "text/plain": [
       "[1] -52.48106382   0.02752901"
      ]
     },
     "metadata": {},
     "output_type": "display_data"
    }
   ],
   "source": [
    "Recursiveestimation <- function(lambda) {\n",
    "D <- read.csv(\"DST_BIL54.csv\")\n",
    "D$time <- as.POSIXct(paste0(D$time,\"-01\"), \"%Y-%m-%d\", tz=\"UTC\")\n",
    "## Year to month for each of them\n",
    "D$year <- 1900 + as.POSIXlt(D$time)$year + as.POSIXlt(D$time)$mon / 12\n",
    "## Make the output variable a floating point (i.e.\\ decimal number)\n",
    "D$total <- as.numeric(D$total) / 1E6\n",
    "## Divide intro train and test set\n",
    "teststart <- as.POSIXct(\"2024-01-01\", tz=\"UTC\")\n",
    "Dtrain <- D[D$time < teststart, ]\n",
    "Dtest <- D[D$time >= teststart, ]\n",
    "xx <- Dtrain$year \n",
    "y <- Dtrain$total\n",
    "x <-cbind(1,xx)\n",
    "\n",
    "\n",
    "\n",
    "\n",
    "## define lambda(t)\n",
    "#lambda_t <- function(t,l,N){return(l^(N-t))}\n",
    "N <-length((y))\n",
    "\n",
    "\n",
    "parameter_list <- matrix(NA, nrow=N, ncol=2)\n",
    "R_initial <- diag(0.0000001,nrow = 2,ncol = 2)\n",
    "h_1 <- x[1,]*y[1]\n",
    "R <- lambda*R_initial + x[1,] %*% t(x[1,])\n",
    "parameter_list[1,] <- solve(R) %*% h_1\n",
    "\n",
    "for (i in 2:N) {\n",
    "R <- R * lambda + x[i,] %*% t(x[i,])  # Update R\n",
    "parameter_list[i,] <- parameter_list[i-1,] + (solve(R) %*% x[i,]) %*% (y[i] - t(x[i,]) %*% parameter_list[i-1,]) }\n",
    "return(parameter_list[N,])\n",
    "}\n",
    "Recursiveestimation(0.9)"
   ]
  },
  {
   "cell_type": "code",
   "execution_count": null,
   "metadata": {
    "vscode": {
     "languageId": "r"
    }
   },
   "outputs": [],
   "source": []
  },
  {
   "cell_type": "code",
   "execution_count": null,
   "metadata": {
    "vscode": {
     "languageId": "r"
    }
   },
   "outputs": [],
   "source": []
  }
 ],
 "metadata": {
  "kernelspec": {
   "display_name": "R",
   "language": "R",
   "name": "ir"
  },
  "language_info": {
   "codemirror_mode": "r",
   "file_extension": ".r",
   "mimetype": "text/x-r-source",
   "name": "R",
   "pygments_lexer": "r",
   "version": "4.4.2"
  }
 },
 "nbformat": 4,
 "nbformat_minor": 2
}
