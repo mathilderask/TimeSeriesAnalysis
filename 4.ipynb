{
 "cells": [
  {
   "cell_type": "code",
   "execution_count": 5,
   "metadata": {
    "vscode": {
     "languageId": "r"
    }
   },
   "outputs": [
    {
     "data": {
      "text/html": [
       "4.99999947343854"
      ],
      "text/latex": [
       "4.99999947343854"
      ],
      "text/markdown": [
       "4.99999947343854"
      ],
      "text/plain": [
       "[1] 4.999999"
      ]
     },
     "metadata": {},
     "output_type": "display_data"
    }
   ],
   "source": [
    "Recursiveestimation <- function(lambda) {\n",
    "D <- read.csv(\"DST_BIL54.csv\")\n",
    "D$time <- as.POSIXct(paste0(D$time,\"-01\"), \"%Y-%m-%d\", tz=\"UTC\")\n",
    "## Year to month for each of them\n",
    "D$year <- 1900 + as.POSIXlt(D$time)$year + as.POSIXlt(D$time)$mon / 12\n",
    "## Make the output variable a floating point (i.e.\\ decimal number)\n",
    "D$total <- as.numeric(D$total) / 1E6\n",
    "## Divide intro train and test set\n",
    "teststart <- as.POSIXct(\"2024-01-01\", tz=\"UTC\")\n",
    "Dtrain <- D[D$time < teststart, ]\n",
    "Dtest <- D[D$time >= teststart, ]\n",
    "x <- Dtrain$year \n",
    "y <- Dtrain$total\n",
    "\n",
    "\n",
    "\n",
    "\n",
    "N <-length((y))\n",
    "w <- lambda^(N - (1:N))\n",
    "T <- sum(w)\n",
    "\n",
    "\n",
    "\n",
    "}\n",
    "\n"
   ]
  },
  {
   "cell_type": "code",
   "execution_count": null,
   "metadata": {
    "vscode": {
     "languageId": "r"
    }
   },
   "outputs": [],
   "source": []
  }
 ],
 "metadata": {
  "kernelspec": {
   "display_name": "R",
   "language": "R",
   "name": "ir"
  },
  "language_info": {
   "codemirror_mode": "r",
   "file_extension": ".r",
   "mimetype": "text/x-r-source",
   "name": "R",
   "pygments_lexer": "r",
   "version": "4.4.2"
  }
 },
 "nbformat": 4,
 "nbformat_minor": 2
}
