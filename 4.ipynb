{
 "cells": [
  {
   "cell_type": "code",
   "execution_count": null,
   "metadata": {
    "vscode": {
     "languageId": "r"
    }
   },
   "outputs": [],
   "source": []
  },
  {
   "cell_type": "code",
   "execution_count": null,
   "metadata": {
    "vscode": {
     "languageId": "r"
    }
   },
   "outputs": [],
   "source": [
    "Recursiveestimation <- function(lambda) {\n",
    "D <- read.csv(\"DST_BIL54.csv\")\n",
    "D$time <- as.POSIXct(paste0(D$time,\"-01\"), \"%Y-%m-%d\", tz=\"UTC\")\n",
    "\n",
    "\n",
    "## Year to month for each of them\n",
    "D$year <- 1900 + as.POSIXlt(D$time)$year + as.POSIXlt(D$time)$mon / 12\n",
    "\n",
    "## Make the output variable a floating point (i.e.\\ decimal number)\n",
    "D$total <- as.numeric(D$total) / 1E6\n",
    "\n",
    "## Divide intro train and test set\n",
    "teststart <- as.POSIXct(\"2024-01-01\", tz=\"UTC\")\n",
    "Dtrain <- D[D$time < teststart, ]\n",
    "Dtest <- D[D$time >= teststart, ]\n",
    "x <- Dtrain$year \n",
    "y <- Dtrain$total\n",
    "\n",
    "N = length((y))\n",
    "w <- lambda^(N - (1:N))\n",
    "T = sum(w)\n",
    "\n",
    "}\n"
   ]
  }
 ],
 "metadata": {
  "kernelspec": {
   "display_name": "R",
   "language": "R",
   "name": "ir"
  },
  "language_info": {
   "codemirror_mode": "r",
   "file_extension": ".r",
   "mimetype": "text/x-r-source",
   "name": "R",
   "pygments_lexer": "r",
   "version": "4.4.2"
  }
 },
 "nbformat": 4,
 "nbformat_minor": 2
}
