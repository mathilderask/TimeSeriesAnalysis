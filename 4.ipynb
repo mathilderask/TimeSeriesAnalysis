{
 "cells": [
  {
   "cell_type": "code",
   "execution_count": 5,
   "metadata": {
    "vscode": {
     "languageId": "r"
    }
   },
   "outputs": [
    {
     "name": "stdout",
     "output_type": "stream",
     "text": [
      "'data.frame':\t84 obs. of  13 variables:\n",
      " $ time        : chr  \"2018-01\" \"2018-02\" \"2018-03\" \"2018-04\" ...\n",
      " $ total       : int  2930483 2934044 2941422 2951498 2963093 2973721 2976096 2985537 2983209 2982473 ...\n",
      " $ gasoline    : int  1781826 1783338 1787219 1793554 1799795 1805170 1806338 1810615 1808496 1806710 ...\n",
      " $ diesel      : int  1136656 1138414 1141576 1144846 1149840 1154651 1155420 1159907 1159418 1160162 ...\n",
      " $ fgas        : int  12 12 12 12 12 12 12 12 11 11 ...\n",
      " $ ngas        : int  256 255 257 257 256 262 262 261 261 263 ...\n",
      " $ electricity : int  9304 9343 9399 9548 9665 9807 9853 10002 10120 10236 ...\n",
      " $ petroleum   : int  0 0 0 0 0 0 0 0 0 0 ...\n",
      " $ hydrogen    : int  81 80 77 77 77 77 77 80 82 82 ...\n",
      " $ methanol    : int  0 0 0 0 0 0 0 0 0 0 ...\n",
      " $ ethanol     : int  0 0 0 0 0 0 0 0 0 0 ...\n",
      " $ pluginhybrid: int  2340 2593 2873 3195 3439 3734 4126 4652 4812 5000 ...\n",
      " $ otherfuels  : int  8 9 9 9 9 8 8 8 9 9 ...\n"
     ]
    },
    {
     "data": {
      "text/html": [
       "<style>\n",
       ".list-inline {list-style: none; margin:0; padding: 0}\n",
       ".list-inline>li {display: inline-block}\n",
       ".list-inline>li:not(:last-child)::after {content: \"\\00b7\"; padding: 0 .5ex}\n",
       "</style>\n",
       "<ol class=list-inline><li>'POSIXct'</li><li>'POSIXt'</li></ol>\n"
      ],
      "text/latex": [
       "\\begin{enumerate*}\n",
       "\\item 'POSIXct'\n",
       "\\item 'POSIXt'\n",
       "\\end{enumerate*}\n"
      ],
      "text/markdown": [
       "1. 'POSIXct'\n",
       "2. 'POSIXt'\n",
       "\n",
       "\n"
      ],
      "text/plain": [
       "[1] \"POSIXct\" \"POSIXt\" "
      ]
     },
     "metadata": {},
     "output_type": "display_data"
    }
   ],
   "source": [
    "D <- read.csv(\"DST_BIL54.csv\")\n",
    "str(D)\n",
    "# See the help\n",
    "# ?strftime\n",
    "D$time <- as.POSIXct(paste0(D$time,\"-01\"), \"%Y-%m-%d\", tz=\"UTC\")\n",
    "\n",
    "\n",
    "## Year to month for each of them\n",
    "D$year <- 1900 + as.POSIXlt(D$time)$year + as.POSIXlt(D$time)$mon / 12\n",
    "class(D$time)\n",
    "## Make the output variable a floating point (i.e.\\ decimal number)\n",
    "D$total <- as.numeric(D$total) / 1E6\n",
    "\n",
    "## Divide intro train and test set\n",
    "teststart <- as.POSIXct(\"2024-01-01\", tz=\"UTC\")\n",
    "Dtrain <- D[D$time < teststart, ]\n",
    "Dtest <- D[D$time >= teststart, ]"
   ]
  },
  {
   "cell_type": "code",
   "execution_count": null,
   "metadata": {
    "vscode": {
     "languageId": "r"
    }
   },
   "outputs": [],
   "source": []
  }
 ],
 "metadata": {
  "kernelspec": {
   "display_name": "R",
   "language": "R",
   "name": "ir"
  },
  "language_info": {
   "codemirror_mode": "r",
   "file_extension": ".r",
   "mimetype": "text/x-r-source",
   "name": "R",
   "pygments_lexer": "r",
   "version": "4.4.2"
  }
 },
 "nbformat": 4,
 "nbformat_minor": 2
}
