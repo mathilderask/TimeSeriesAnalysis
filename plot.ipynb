{
 "cells": [
  {
   "cell_type": "code",
   "execution_count": null,
   "metadata": {
    "vscode": {
     "languageId": "plaintext"
    }
   },
   "outputs": [],
   "source": [
    "D <- read.csv(\"DST_BIL54.csv\")\n",
    "str(D)\n",
    "print(D)\n",
    "# See the help\n",
    "# ?strftime\n",
    "D$time <- as.POSIXct(paste0(D$time,\"-01\"), \"%Y-%m-%d\", tz=\"UTC\")\n",
    "D$time\n",
    "class(D$time)\n",
    "\n",
    "## Year to month for each of them\n",
    "D$year <- 1900 + as.POSIXlt(D$time)$year + as.POSIXlt(D$time)$mon / 12\n",
    "\n",
    "## Make the output variable a floating point (i.e.\\ decimal number)\n",
    "D$total <- as.numeric(D$total) / 1E6\n",
    "\n",
    "## Divide intro train and test set\n",
    "teststart <- as.POSIXct(\"2024-01-01\", tz=\"UTC\")\n",
    "Dtrain <- D[D$time < teststart, ]\n",
    "Dtest <- D[D$time >= teststart, ]\n",
    "\n",
    "# 1.1. Make a time variable, x, such that 2018-Jan has x0 = 2018, 2018-Feb has x1 = 2018 + 1/12,\n",
    "# 2018-Mar has x2 = 2018 + 2/12 etc. and plot the training data versus x.\n",
    "print(Dtrain$time)\n",
    "# x <- Dtrain['year']  # This keeps it as a data frame\n",
    "x <- Dtrain$year # # Extracts it as a numeric vector\n",
    "\n",
    "x11()\n",
    "plot(x,Dtrain$hydrogen)\n",
    "\n",
    "\n",
    "x11()  # Open a new plot window\n",
    "\n",
    "# Define x and remove it from the dataframe to plot only numeric columns\n",
    "x <- Dtrain$year\n",
    "y_data <- Dtrain[, !names(Dtrain) %in% c(\"year\",\"time\", \"total\")]  # Remove some of the columns\n",
    "\n",
    "# Plot all columns against x\n",
    "matplot(x, y_data, type = \"l\", lty = 1, col = 1:ncol(y_data), \n",
    "        xlab = \"Year\", ylab = \"# Vehicles\", main = \"Number of Motor Driven Veichles Over Time\")\n",
    "\n",
    "# Add legend using column names\n",
    "legend(\"topright\", legend = colnames(y_data), col = 1:ncol(y_data), lty = 1, cex = 0.8)\n",
    "\n"
   ]
  },
  {
   "cell_type": "code",
   "execution_count": null,
   "metadata": {
    "vscode": {
     "languageId": "plaintext"
    }
   },
   "outputs": [],
   "source": []
  }
 ],
 "metadata": {
  "language_info": {
   "name": "python"
  }
 },
 "nbformat": 4,
 "nbformat_minor": 2
}
