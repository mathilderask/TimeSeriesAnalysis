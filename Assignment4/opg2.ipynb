{
 "cells": [
  {
   "cell_type": "markdown",
   "id": "331fee43",
   "metadata": {},
   "source": [
    "### Task 2"
   ]
  },
  {
   "cell_type": "markdown",
   "id": "1c80f882",
   "metadata": {},
   "source": [
    "#### Task 2.1"
   ]
  },
  {
   "cell_type": "code",
   "execution_count": 2,
   "id": "e36a4ab8",
   "metadata": {
    "vscode": {
     "languageId": "r"
    }
   },
   "outputs": [
    {
     "data": {
      "text/html": [
       "<table class=\"dataframe\">\n",
       "<caption>A data.frame: 6 × 5</caption>\n",
       "<thead>\n",
       "\t<tr><th></th><th scope=col>time</th><th scope=col>Y</th><th scope=col>Ta</th><th scope=col>S</th><th scope=col>I</th></tr>\n",
       "\t<tr><th></th><th scope=col>&lt;int&gt;</th><th scope=col>&lt;dbl&gt;</th><th scope=col>&lt;dbl&gt;</th><th scope=col>&lt;dbl&gt;</th><th scope=col>&lt;dbl&gt;</th></tr>\n",
       "</thead>\n",
       "<tbody>\n",
       "\t<tr><th scope=row>1</th><td>1</td><td>23.49673</td><td>7.083333</td><td>0</td><td>15.89954</td></tr>\n",
       "\t<tr><th scope=row>2</th><td>2</td><td>22.72033</td><td>7.116667</td><td>0</td><td>15.86177</td></tr>\n",
       "\t<tr><th scope=row>3</th><td>3</td><td>22.05270</td><td>7.216667</td><td>0</td><td>16.12147</td></tr>\n",
       "\t<tr><th scope=row>4</th><td>4</td><td>21.53805</td><td>7.250000</td><td>0</td><td>15.44763</td></tr>\n",
       "\t<tr><th scope=row>5</th><td>5</td><td>20.99503</td><td>7.316667</td><td>0</td><td>16.25832</td></tr>\n",
       "\t<tr><th scope=row>6</th><td>6</td><td>20.61153</td><td>7.483333</td><td>0</td><td>16.63265</td></tr>\n",
       "</tbody>\n",
       "</table>\n"
      ],
      "text/latex": [
       "A data.frame: 6 × 5\n",
       "\\begin{tabular}{r|lllll}\n",
       "  & time & Y & Ta & S & I\\\\\n",
       "  & <int> & <dbl> & <dbl> & <dbl> & <dbl>\\\\\n",
       "\\hline\n",
       "\t1 & 1 & 23.49673 & 7.083333 & 0 & 15.89954\\\\\n",
       "\t2 & 2 & 22.72033 & 7.116667 & 0 & 15.86177\\\\\n",
       "\t3 & 3 & 22.05270 & 7.216667 & 0 & 16.12147\\\\\n",
       "\t4 & 4 & 21.53805 & 7.250000 & 0 & 15.44763\\\\\n",
       "\t5 & 5 & 20.99503 & 7.316667 & 0 & 16.25832\\\\\n",
       "\t6 & 6 & 20.61153 & 7.483333 & 0 & 16.63265\\\\\n",
       "\\end{tabular}\n"
      ],
      "text/markdown": [
       "\n",
       "A data.frame: 6 × 5\n",
       "\n",
       "| <!--/--> | time &lt;int&gt; | Y &lt;dbl&gt; | Ta &lt;dbl&gt; | S &lt;dbl&gt; | I &lt;dbl&gt; |\n",
       "|---|---|---|---|---|---|\n",
       "| 1 | 1 | 23.49673 | 7.083333 | 0 | 15.89954 |\n",
       "| 2 | 2 | 22.72033 | 7.116667 | 0 | 15.86177 |\n",
       "| 3 | 3 | 22.05270 | 7.216667 | 0 | 16.12147 |\n",
       "| 4 | 4 | 21.53805 | 7.250000 | 0 | 15.44763 |\n",
       "| 5 | 5 | 20.99503 | 7.316667 | 0 | 16.25832 |\n",
       "| 6 | 6 | 20.61153 | 7.483333 | 0 | 16.63265 |\n",
       "\n"
      ],
      "text/plain": [
       "  time Y        Ta       S I       \n",
       "1 1    23.49673 7.083333 0 15.89954\n",
       "2 2    22.72033 7.116667 0 15.86177\n",
       "3 3    22.05270 7.216667 0 16.12147\n",
       "4 4    21.53805 7.250000 0 15.44763\n",
       "5 5    20.99503 7.316667 0 16.25832\n",
       "6 6    20.61153 7.483333 0 16.63265"
      ]
     },
     "metadata": {},
     "output_type": "display_data"
    }
   ],
   "source": [
    "# Load data (csv file)\n",
    "data <- read.csv(\"transformer_data.csv\", header = TRUE, sep = \",\")\n",
    "# Display the first few rows of the data\n",
    "head(data)"
   ]
  },
  {
   "cell_type": "code",
   "execution_count": 4,
   "id": "bfab001a",
   "metadata": {
    "vscode": {
     "languageId": "r"
    }
   },
   "outputs": [
    {
     "data": {
      "image/png": "[encoded data removed]",
      "text/plain": [
       "Plot with title \"Transformer Data\""
      ]
     },
     "metadata": {
      "image/png": {
       "height": 420,
       "width": 420
      }
     },
     "output_type": "display_data"
    }
   ],
   "source": [
    "# Plot all four variables (Y, Ta, S, I) in the data\n",
    "par(bg = \"white\")\n",
    "plot(data$Y, type = \"l\", col = \"blue\", xlab = \"Time\", ylab = \"Values\", main = \"Transformer Data\")\n",
    "lines(data$Ta, col = \"red\")\n",
    "lines(data$S, col = \"green\")\n",
    "lines(data$I, col = \"purple\")\n",
    "legend(\"topright\", legend = c(\"Y\", \"Ta\", \"S\", \"I\"), col = c(\"blue\", \"red\", \"green\", \"purple\"), lty = 1)\n",
    "\n"
   ]
  },
  {
   "cell_type": "code",
   "execution_count": null,
   "id": "a5aa30bd",
   "metadata": {
    "vscode": {
     "languageId": "r"
    }
   },
   "outputs": [],
   "source": []
  }
 ],
 "metadata": {
  "kernelspec": {
   "display_name": "R",
   "language": "R",
   "name": "ir"
  },
  "language_info": {
   "codemirror_mode": "r",
   "file_extension": ".r",
   "mimetype": "text/x-r-source",
   "name": "R",
   "pygments_lexer": "r",
   "version": "4.4.2"
  }
 },
 "nbformat": 4,
 "nbformat_minor": 5
}
