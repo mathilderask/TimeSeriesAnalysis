{
 "cells": [
  {
   "cell_type": "code",
   "execution_count": 25,
   "id": "2d0698b9",
   "metadata": {
    "vscode": {
     "languageId": "r"
    }
   },
   "outputs": [],
   "source": [
    "# include functions\n",
    "files <- dir(\"functions\",full.names=TRUE)\n",
    "for(i in 1:length(files)) source(files[i])"
   ]
  },
  {
   "cell_type": "code",
   "execution_count": 39,
   "id": "a4c836c4",
   "metadata": {
    "vscode": {
     "languageId": "r"
    }
   },
   "outputs": [
    {
     "data": {
      "text/html": [
       "<table class=\"dataframe\">\n",
       "<caption>A data.frame: 6 × 4</caption>\n",
       "<thead>\n",
       "\t<tr><th></th><th scope=col>Y</th><th scope=col>Ta</th><th scope=col>S</th><th scope=col>I</th></tr>\n",
       "\t<tr><th></th><th scope=col>&lt;dbl&gt;</th><th scope=col>&lt;dbl&gt;</th><th scope=col>&lt;dbl&gt;</th><th scope=col>&lt;dbl&gt;</th></tr>\n",
       "</thead>\n",
       "<tbody>\n",
       "\t<tr><th scope=row>1</th><td>23.49673</td><td>7.083333</td><td>0</td><td>15.89954</td></tr>\n",
       "\t<tr><th scope=row>2</th><td>22.72033</td><td>7.116667</td><td>0</td><td>15.86177</td></tr>\n",
       "\t<tr><th scope=row>3</th><td>22.05270</td><td>7.216667</td><td>0</td><td>16.12147</td></tr>\n",
       "\t<tr><th scope=row>4</th><td>21.53805</td><td>7.250000</td><td>0</td><td>15.44763</td></tr>\n",
       "\t<tr><th scope=row>5</th><td>20.99503</td><td>7.316667</td><td>0</td><td>16.25832</td></tr>\n",
       "\t<tr><th scope=row>6</th><td>20.61153</td><td>7.483333</td><td>0</td><td>16.63265</td></tr>\n",
       "</tbody>\n",
       "</table>\n"
      ],
      "text/latex": [
       "A data.frame: 6 × 4\n",
       "\\begin{tabular}{r|llll}\n",
       "  & Y & Ta & S & I\\\\\n",
       "  & <dbl> & <dbl> & <dbl> & <dbl>\\\\\n",
       "\\hline\n",
       "\t1 & 23.49673 & 7.083333 & 0 & 15.89954\\\\\n",
       "\t2 & 22.72033 & 7.116667 & 0 & 15.86177\\\\\n",
       "\t3 & 22.05270 & 7.216667 & 0 & 16.12147\\\\\n",
       "\t4 & 21.53805 & 7.250000 & 0 & 15.44763\\\\\n",
       "\t5 & 20.99503 & 7.316667 & 0 & 16.25832\\\\\n",
       "\t6 & 20.61153 & 7.483333 & 0 & 16.63265\\\\\n",
       "\\end{tabular}\n"
      ],
      "text/markdown": [
       "\n",
       "A data.frame: 6 × 4\n",
       "\n",
       "| <!--/--> | Y &lt;dbl&gt; | Ta &lt;dbl&gt; | S &lt;dbl&gt; | I &lt;dbl&gt; |\n",
       "|---|---|---|---|---|\n",
       "| 1 | 23.49673 | 7.083333 | 0 | 15.89954 |\n",
       "| 2 | 22.72033 | 7.116667 | 0 | 15.86177 |\n",
       "| 3 | 22.05270 | 7.216667 | 0 | 16.12147 |\n",
       "| 4 | 21.53805 | 7.250000 | 0 | 15.44763 |\n",
       "| 5 | 20.99503 | 7.316667 | 0 | 16.25832 |\n",
       "| 6 | 20.61153 | 7.483333 | 0 | 16.63265 |\n",
       "\n"
      ],
      "text/plain": [
       "  Y        Ta       S I       \n",
       "1 23.49673 7.083333 0 15.89954\n",
       "2 22.72033 7.116667 0 15.86177\n",
       "3 22.05270 7.216667 0 16.12147\n",
       "4 21.53805 7.250000 0 15.44763\n",
       "5 20.99503 7.316667 0 16.25832\n",
       "6 20.61153 7.483333 0 16.63265"
      ]
     },
     "metadata": {},
     "output_type": "display_data"
    }
   ],
   "source": [
    "# load data\n",
    "df <- read.csv(\"transformer_data.csv\", header=TRUE, sep=\",\")\n",
    "head(df[2:5])\n",
    "\n",
    "# initial state value\n",
    "X0 <- 20\n",
    "\n",
    "# parameters \n",
    "# A B1, B2,B3, Q,C,sigma2,X0\n",
    "start_par <- c(0.5,0.5, 0.5, 0.5, 0.5, 0.5,0.5,X0) # large variance (sigma1)\n",
    "upper <- 5\n",
    "lower <- 0.1\n"
   ]
  },
  {
   "cell_type": "code",
   "execution_count": null,
   "id": "858c5905",
   "metadata": {
    "vscode": {
     "languageId": "r"
    }
   },
   "outputs": [
    {
     "name": "stdout",
     "output_type": "stream",
     "text": [
      "iter   10 value 683.447227\n",
      "iter   20 value 106.827600\n",
      "iter   30 value 7.753962\n",
      "iter   40 value -19.065428\n",
      "iter   50 value -19.093873\n",
      "final  value -19.093873 \n",
      "converged\n"
     ]
    },
    {
     "data": {
      "text/html": [
       "<dl>\n",
       "\t<dt>$par</dt>\n",
       "\t\t<dd><style>\n",
       ".list-inline {list-style: none; margin:0; padding: 0}\n",
       ".list-inline>li {display: inline-block}\n",
       ".list-inline>li:not(:last-child)::after {content: \"\\00b7\"; padding: 0 .5ex}\n",
       "</style>\n",
       "<ol class=list-inline><li>0.751264987084475</li><li>0.1</li><li>0.1</li><li>2.45630918311884</li><li>3.79790741790778</li><li>0.1</li><li>0.1</li><li>5</li></ol>\n",
       "</dd>\n",
       "\t<dt>$value</dt>\n",
       "\t\t<dd>-19.0938734325114</dd>\n",
       "\t<dt>$counts</dt>\n",
       "\t\t<dd><style>\n",
       ".dl-inline {width: auto; margin:0; padding: 0}\n",
       ".dl-inline>dt, .dl-inline>dd {float: none; width: auto; display: inline-block}\n",
       ".dl-inline>dt::after {content: \":\\0020\"; padding-right: .5ex}\n",
       ".dl-inline>dt:not(:first-of-type) {padding-left: .5ex}\n",
       "</style><dl class=dl-inline><dt>function</dt><dd>67</dd><dt>gradient</dt><dd>67</dd></dl>\n",
       "</dd>\n",
       "\t<dt>$convergence</dt>\n",
       "\t\t<dd>0</dd>\n",
       "\t<dt>$message</dt>\n",
       "\t\t<dd>'CONVERGENCE: REL_REDUCTION_OF_F &lt;= FACTR*EPSMCH'</dd>\n",
       "</dl>\n"
      ],
      "text/latex": [
       "\\begin{description}\n",
       "\\item[\\$par] \\begin{enumerate*}\n",
       "\\item 0.751264987084475\n",
       "\\item 0.1\n",
       "\\item 0.1\n",
       "\\item 2.45630918311884\n",
       "\\item 3.79790741790778\n",
       "\\item 0.1\n",
       "\\item 0.1\n",
       "\\item 5\n",
       "\\end{enumerate*}\n",
       "\n",
       "\\item[\\$value] -19.0938734325114\n",
       "\\item[\\$counts] \\begin{description*}\n",
       "\\item[function] 67\n",
       "\\item[gradient] 67\n",
       "\\end{description*}\n",
       "\n",
       "\\item[\\$convergence] 0\n",
       "\\item[\\$message] 'CONVERGENCE: REL\\_REDUCTION\\_OF\\_F <= FACTR*EPSMCH'\n",
       "\\end{description}\n"
      ],
      "text/markdown": [
       "$par\n",
       ":   1. 0.751264987084475\n",
       "2. 0.1\n",
       "3. 0.1\n",
       "4. 2.45630918311884\n",
       "5. 3.79790741790778\n",
       "6. 0.1\n",
       "7. 0.1\n",
       "8. 5\n",
       "\n",
       "\n",
       "\n",
       "$value\n",
       ":   -19.0938734325114\n",
       "$counts\n",
       ":   function\n",
       ":   67gradient\n",
       ":   67\n",
       "\n",
       "\n",
       "$convergence\n",
       ":   0\n",
       "$message\n",
       ":   'CONVERGENCE: REL_REDUCTION_OF_F &lt;= FACTR*EPSMCH'\n",
       "\n",
       "\n"
      ],
      "text/plain": [
       "$par\n",
       "[1] 0.751265 0.100000 0.100000 2.456309 3.797907 0.100000 0.100000 5.000000\n",
       "\n",
       "$value\n",
       "[1] -19.09387\n",
       "\n",
       "$counts\n",
       "function gradient \n",
       "      67       67 \n",
       "\n",
       "$convergence\n",
       "[1] 0\n",
       "\n",
       "$message\n",
       "[1] \"CONVERGENCE: REL_REDUCTION_OF_F <= FACTR*EPSMCH\"\n"
      ]
     },
     "metadata": {},
     "output_type": "display_data"
    }
   ],
   "source": [
    "# run estimation\n",
    "estimate_dt1d(start_par = start_par, df=df, upper = upper, lower = lower)"
   ]
  },
  {
   "cell_type": "code",
   "execution_count": 38,
   "id": "b399a3c7",
   "metadata": {
    "vscode": {
     "languageId": "r"
    }
   },
   "outputs": [
    {
     "name": "stdout",
     "output_type": "stream",
     "text": [
      "iter   10 value 23.549745\n",
      "iter   20 value -16.505452\n",
      "iter   30 value -157.803602\n",
      "iter   40 value -162.194268\n",
      "iter   50 value -162.277851\n",
      "iter   60 value -164.067221\n",
      "iter   70 value -181.056251\n",
      "iter   80 value -184.569479\n",
      "iter   90 value -278.850289\n",
      "iter  100 value -306.031580\n",
      "iter  110 value -306.832051\n",
      "iter  120 value -306.835513\n",
      "iter  130 value -306.926723\n",
      "iter  140 value -306.958042\n",
      "iter  150 value -307.122905\n",
      "iter  160 value -307.412724\n",
      "iter  170 value -308.609001\n",
      "iter  180 value -314.795993\n",
      "iter  190 value -327.240675\n",
      "iter  200 value -327.645060\n",
      "iter  210 value -337.268433\n",
      "iter  220 value -339.780969\n",
      "iter  230 value -340.652958\n",
      "iter  240 value -340.654262\n",
      "final  value -340.654264 \n",
      "converged\n"
     ]
    },
    {
     "data": {
      "text/html": [
       "<dl>\n",
       "\t<dt>$par</dt>\n",
       "\t\t<dd><style>\n",
       ".list-inline {list-style: none; margin:0; padding: 0}\n",
       ".list-inline>li {display: inline-block}\n",
       ".list-inline>li:not(:last-child)::after {content: \"\\00b7\"; padding: 0 .5ex}\n",
       "</style>\n",
       "<ol class=list-inline><li>0.756346270073903</li><li>8.1065696802392</li><li>0.265470679253925</li><li>29.8550865062241</li><li>3.38379353165075</li><li>0.01</li><li>0.01</li><li>22.0752115162476</li></ol>\n",
       "</dd>\n",
       "\t<dt>$value</dt>\n",
       "\t\t<dd>-340.654263736163</dd>\n",
       "\t<dt>$counts</dt>\n",
       "\t\t<dd><style>\n",
       ".dl-inline {width: auto; margin:0; padding: 0}\n",
       ".dl-inline>dt, .dl-inline>dd {float: none; width: auto; display: inline-block}\n",
       ".dl-inline>dt::after {content: \":\\0020\"; padding-right: .5ex}\n",
       ".dl-inline>dt:not(:first-of-type) {padding-left: .5ex}\n",
       "</style><dl class=dl-inline><dt>function</dt><dd>282</dd><dt>gradient</dt><dd>282</dd></dl>\n",
       "</dd>\n",
       "\t<dt>$convergence</dt>\n",
       "\t\t<dd>0</dd>\n",
       "\t<dt>$message</dt>\n",
       "\t\t<dd>'CONVERGENCE: REL_REDUCTION_OF_F &lt;= FACTR*EPSMCH'</dd>\n",
       "</dl>\n"
      ],
      "text/latex": [
       "\\begin{description}\n",
       "\\item[\\$par] \\begin{enumerate*}\n",
       "\\item 0.756346270073903\n",
       "\\item 8.1065696802392\n",
       "\\item 0.265470679253925\n",
       "\\item 29.8550865062241\n",
       "\\item 3.38379353165075\n",
       "\\item 0.01\n",
       "\\item 0.01\n",
       "\\item 22.0752115162476\n",
       "\\end{enumerate*}\n",
       "\n",
       "\\item[\\$value] -340.654263736163\n",
       "\\item[\\$counts] \\begin{description*}\n",
       "\\item[function] 282\n",
       "\\item[gradient] 282\n",
       "\\end{description*}\n",
       "\n",
       "\\item[\\$convergence] 0\n",
       "\\item[\\$message] 'CONVERGENCE: REL\\_REDUCTION\\_OF\\_F <= FACTR*EPSMCH'\n",
       "\\end{description}\n"
      ],
      "text/markdown": [
       "$par\n",
       ":   1. 0.756346270073903\n",
       "2. 8.1065696802392\n",
       "3. 0.265470679253925\n",
       "4. 29.8550865062241\n",
       "5. 3.38379353165075\n",
       "6. 0.01\n",
       "7. 0.01\n",
       "8. 22.0752115162476\n",
       "\n",
       "\n",
       "\n",
       "$value\n",
       ":   -340.654263736163\n",
       "$counts\n",
       ":   function\n",
       ":   282gradient\n",
       ":   282\n",
       "\n",
       "\n",
       "$convergence\n",
       ":   0\n",
       "$message\n",
       ":   'CONVERGENCE: REL_REDUCTION_OF_F &lt;= FACTR*EPSMCH'\n",
       "\n",
       "\n"
      ],
      "text/plain": [
       "$par\n",
       "[1]  0.7563463  8.1065697  0.2654707 29.8550865  3.3837935  0.0100000  0.0100000\n",
       "[8] 22.0752115\n",
       "\n",
       "$value\n",
       "[1] -340.6543\n",
       "\n",
       "$counts\n",
       "function gradient \n",
       "     282      282 \n",
       "\n",
       "$convergence\n",
       "[1] 0\n",
       "\n",
       "$message\n",
       "[1] \"CONVERGENCE: REL_REDUCTION_OF_F <= FACTR*EPSMCH\"\n"
      ]
     },
     "metadata": {},
     "output_type": "display_data"
    }
   ],
   "source": [
    "estimate_dt1d(start_par = c(0.5,0.5,0.5,0.5,0.5,0.5,0.5,20),df=df,lower=0.01,upper=30)"
   ]
  },
  {
   "cell_type": "code",
   "execution_count": 47,
   "id": "0ee3ce52",
   "metadata": {
    "vscode": {
     "languageId": "r"
    }
   },
   "outputs": [
    {
     "data": {
      "image/png": "[encoded data removed]",
      "text/plain": [
       "Plot with title “Transformer Data with Solar Radiance”"
      ]
     },
     "metadata": {
      "image/png": {
       "height": 420,
       "width": 420
      }
     },
     "output_type": "display_data"
    }
   ],
   "source": [
    "# Plot data\n",
    "\n",
    "#png(\"opg_2_2_oia.png\", width = 12, height = 6, units = \"in\", res = 300)\n",
    "\n",
    "# Plot main variables (temperature in °C)\n",
    "par(bg = \"white\", mar = c(5, 4, 4, 4) + 0.1)  # Leave space on right for second y-axis\n",
    "plot(df$Y, type = \"l\", col = \"blue\", xlab = \"Time (h)\", ylab = \"Temperature (°C)\", \n",
    "     main = \"Transformer Data with Solar Radiance\", \n",
    "     ylim = range(c(df$Y)), lwd = 2)\n",
    "\n",
    "\n",
    "# Add fit \n",
    "\n",
    "\n",
    "# Legend\n",
    "#legend(\"topright\", \n",
    "#       legend = c(\"Y (°C)\", \"Ta (°C)\", \"I (kA)\", \"S (W/m²)\"), \n",
    "#       col = c(\"blue\", \"springgreen2\", \"magenta2\", \"goldenrod2\"), \n",
    " #      lty = 1, lwd = 2)\n",
    "\n",
    "#dev.off()\n"
   ]
  },
  {
   "cell_type": "code",
   "execution_count": null,
   "id": "0ccf1e25",
   "metadata": {
    "vscode": {
     "languageId": "r"
    }
   },
   "outputs": [],
   "source": []
  }
 ],
 "metadata": {
  "kernelspec": {
   "display_name": "R",
   "language": "R",
   "name": "ir"
  },
  "language_info": {
   "codemirror_mode": "r",
   "file_extension": ".r",
   "mimetype": "text/x-r-source",
   "name": "R",
   "pygments_lexer": "r",
   "version": "4.1.2"
  }
 },
 "nbformat": 4,
 "nbformat_minor": 5
}
