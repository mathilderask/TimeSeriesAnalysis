{
 "cells": [
  {
   "cell_type": "code",
   "execution_count": 23,
   "id": "2d0698b9",
   "metadata": {
    "vscode": {
     "languageId": "r"
    }
   },
   "outputs": [],
   "source": [
    "# include functions\n",
    "files <- dir(\"functions\",full.names=TRUE)\n",
    "for(i in 1:length(files)) source(files[i])"
   ]
  },
  {
   "cell_type": "code",
   "execution_count": 24,
   "id": "a4c836c4",
   "metadata": {
    "vscode": {
     "languageId": "r"
    }
   },
   "outputs": [
    {
     "data": {
      "text/html": [
       "<table class=\"dataframe\">\n",
       "<caption>A data.frame: 6 × 4</caption>\n",
       "<thead>\n",
       "\t<tr><th></th><th scope=col>Y</th><th scope=col>Ta</th><th scope=col>S</th><th scope=col>I</th></tr>\n",
       "\t<tr><th></th><th scope=col>&lt;dbl&gt;</th><th scope=col>&lt;dbl&gt;</th><th scope=col>&lt;dbl&gt;</th><th scope=col>&lt;dbl&gt;</th></tr>\n",
       "</thead>\n",
       "<tbody>\n",
       "\t<tr><th scope=row>1</th><td>23.49673</td><td>7.083333</td><td>0</td><td>15.89954</td></tr>\n",
       "\t<tr><th scope=row>2</th><td>22.72033</td><td>7.116667</td><td>0</td><td>15.86177</td></tr>\n",
       "\t<tr><th scope=row>3</th><td>22.05270</td><td>7.216667</td><td>0</td><td>16.12147</td></tr>\n",
       "\t<tr><th scope=row>4</th><td>21.53805</td><td>7.250000</td><td>0</td><td>15.44763</td></tr>\n",
       "\t<tr><th scope=row>5</th><td>20.99503</td><td>7.316667</td><td>0</td><td>16.25832</td></tr>\n",
       "\t<tr><th scope=row>6</th><td>20.61153</td><td>7.483333</td><td>0</td><td>16.63265</td></tr>\n",
       "</tbody>\n",
       "</table>\n"
      ],
      "text/latex": [
       "A data.frame: 6 × 4\n",
       "\\begin{tabular}{r|llll}\n",
       "  & Y & Ta & S & I\\\\\n",
       "  & <dbl> & <dbl> & <dbl> & <dbl>\\\\\n",
       "\\hline\n",
       "\t1 & 23.49673 & 7.083333 & 0 & 15.89954\\\\\n",
       "\t2 & 22.72033 & 7.116667 & 0 & 15.86177\\\\\n",
       "\t3 & 22.05270 & 7.216667 & 0 & 16.12147\\\\\n",
       "\t4 & 21.53805 & 7.250000 & 0 & 15.44763\\\\\n",
       "\t5 & 20.99503 & 7.316667 & 0 & 16.25832\\\\\n",
       "\t6 & 20.61153 & 7.483333 & 0 & 16.63265\\\\\n",
       "\\end{tabular}\n"
      ],
      "text/markdown": [
       "\n",
       "A data.frame: 6 × 4\n",
       "\n",
       "| <!--/--> | Y &lt;dbl&gt; | Ta &lt;dbl&gt; | S &lt;dbl&gt; | I &lt;dbl&gt; |\n",
       "|---|---|---|---|---|\n",
       "| 1 | 23.49673 | 7.083333 | 0 | 15.89954 |\n",
       "| 2 | 22.72033 | 7.116667 | 0 | 15.86177 |\n",
       "| 3 | 22.05270 | 7.216667 | 0 | 16.12147 |\n",
       "| 4 | 21.53805 | 7.250000 | 0 | 15.44763 |\n",
       "| 5 | 20.99503 | 7.316667 | 0 | 16.25832 |\n",
       "| 6 | 20.61153 | 7.483333 | 0 | 16.63265 |\n",
       "\n"
      ],
      "text/plain": [
       "  Y        Ta       S I       \n",
       "1 23.49673 7.083333 0 15.89954\n",
       "2 22.72033 7.116667 0 15.86177\n",
       "3 22.05270 7.216667 0 16.12147\n",
       "4 21.53805 7.250000 0 15.44763\n",
       "5 20.99503 7.316667 0 16.25832\n",
       "6 20.61153 7.483333 0 16.63265"
      ]
     },
     "metadata": {},
     "output_type": "display_data"
    },
    {
     "name": "stdout",
     "output_type": "stream",
     "text": [
      "final  value 0.000000 \n",
      "stopped after 0 iterations\n"
     ]
    }
   ],
   "source": [
    "# load data\n",
    "df <- read.csv(\"transformer_data.csv\", header=TRUE, sep=\",\")\n",
    "head(df[2:5])\n",
    "\n",
    "# initial state value\n",
    "X0 <- 20\n",
    "\n",
    "# parameters \n",
    "# A B1, B2,B3, Q,C,sigma2,X0\n",
    "start_par <- c(0.5, 0.1, 0.1, 0.3, 0.1,1,X0) # large variance (sigma1)\n",
    "upper <- 2\n",
    "lower <- 0.1\n",
    "\n",
    "# run estimation\n",
    "est <- estimate_dt1d(start_par, df, upper, lower)"
   ]
  },
  {
   "cell_type": "code",
   "execution_count": null,
   "id": "858c5905",
   "metadata": {
    "vscode": {
     "languageId": "r"
    }
   },
   "outputs": [],
   "source": []
  },
  {
   "cell_type": "code",
   "execution_count": null,
   "id": "b399a3c7",
   "metadata": {
    "vscode": {
     "languageId": "r"
    }
   },
   "outputs": [],
   "source": []
  }
 ],
 "metadata": {
  "kernelspec": {
   "display_name": "R",
   "language": "R",
   "name": "ir"
  },
  "language_info": {
   "codemirror_mode": "r",
   "file_extension": ".r",
   "mimetype": "text/x-r-source",
   "name": "R",
   "pygments_lexer": "r",
   "version": "4.1.2"
  }
 },
 "nbformat": 4,
 "nbformat_minor": 5
}
