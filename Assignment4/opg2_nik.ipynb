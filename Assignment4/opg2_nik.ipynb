{
 "cells": [
  {
   "cell_type": "code",
   "execution_count": 7,
   "metadata": {
    "vscode": {
     "languageId": "r"
    }
   },
   "outputs": [],
   "source": [
    "files <- dir(\"functions\",full.names=TRUE)\n",
    "for(i in 1:length(files)) source(files[i])\n",
    "data <- read.csv(\"transformer_data.csv\", header = TRUE, sep = \",\")"
   ]
  },
  {
   "cell_type": "code",
   "execution_count": 10,
   "metadata": {
    "vscode": {
     "languageId": "r"
    }
   },
   "outputs": [
    {
     "name": "stdout",
     "output_type": "stream",
     "text": [
      "iter   10 value 23.549745\n",
      "iter   20 value -16.505452\n",
      "iter   30 value -157.803602\n",
      "iter   40 value -162.194268\n",
      "iter   50 value -162.277852\n",
      "iter   60 value -164.067118\n",
      "iter   70 value -181.054136\n",
      "iter   80 value -184.558580\n",
      "iter   90 value -278.578843\n",
      "iter  100 value -305.049211\n",
      "iter  110 value -306.830828\n",
      "iter  120 value -306.833550\n",
      "iter  130 value -306.860870\n",
      "iter  140 value -306.868350\n",
      "iter  150 value -307.070775\n",
      "iter  160 value -307.369547\n",
      "iter  170 value -308.051280\n",
      "iter  180 value -309.142794\n",
      "iter  190 value -309.836771\n",
      "iter  200 value -310.225090\n",
      "iter  210 value -312.635543\n",
      "iter  220 value -313.173198\n",
      "iter  230 value -315.161571\n",
      "iter  240 value -315.487272\n",
      "iter  250 value -318.061334\n",
      "iter  260 value -318.890615\n",
      "iter  270 value -319.945076\n",
      "iter  280 value -319.976374\n",
      "iter  290 value -319.980054\n",
      "iter  300 value -319.983553\n",
      "iter  310 value -319.995896\n",
      "iter  320 value -320.481832\n",
      "iter  330 value -320.485008\n",
      "iter  340 value -320.491608\n",
      "iter  350 value -320.504305\n",
      "iter  360 value -320.517149\n",
      "iter  370 value -320.533709\n",
      "iter  380 value -320.726272\n",
      "iter  390 value -323.895747\n",
      "iter  400 value -324.016024\n",
      "iter  410 value -324.082624\n",
      "iter  420 value -324.179455\n",
      "iter  430 value -324.447747\n",
      "iter  440 value -324.551018\n",
      "iter  450 value -324.793523\n",
      "iter  460 value -324.857214\n",
      "iter  470 value -325.004008\n",
      "iter  480 value -325.344519\n",
      "iter  490 value -326.682354\n",
      "iter  500 value -328.948503\n",
      "iter  510 value -338.919034\n",
      "final  value -340.686231 \n",
      "converged\n"
     ]
    },
    {
     "data": {
      "text/html": [
       "<dl>\n",
       "\t<dt>$par</dt>\n",
       "\t\t<dd><style>\n",
       ".list-inline {list-style: none; margin:0; padding: 0}\n",
       ".list-inline>li {display: inline-block}\n",
       ".list-inline>li:not(:last-child)::after {content: \"\\00b7\"; padding: 0 .5ex}\n",
       "</style>\n",
       "<ol class=list-inline><li>0.754519322239794</li><li>8.36389170909888</li><li>0.264165333046467</li><li>29.9999999839756</li><li>3.51935100768558</li><li>0.01</li><li>0.01</li><li>22.1069764878675</li></ol>\n",
       "</dd>\n",
       "\t<dt>$value</dt>\n",
       "\t\t<dd>-340.686231468177</dd>\n",
       "\t<dt>$counts</dt>\n",
       "\t\t<dd><style>\n",
       ".dl-inline {width: auto; margin:0; padding: 0}\n",
       ".dl-inline>dt, .dl-inline>dd {float: none; width: auto; display: inline-block}\n",
       ".dl-inline>dt::after {content: \":\\0020\"; padding-right: .5ex}\n",
       ".dl-inline>dt:not(:first-of-type) {padding-left: .5ex}\n",
       "</style><dl class=dl-inline><dt>function</dt><dd>541</dd><dt>gradient</dt><dd>541</dd></dl>\n",
       "</dd>\n",
       "\t<dt>$convergence</dt>\n",
       "\t\t<dd>0</dd>\n",
       "\t<dt>$message</dt>\n",
       "\t\t<dd>'CONVERGENCE: REL_REDUCTION_OF_F &lt;= FACTR*EPSMCH'</dd>\n",
       "</dl>\n"
      ],
      "text/latex": [
       "\\begin{description}\n",
       "\\item[\\$par] \\begin{enumerate*}\n",
       "\\item 0.754519322239794\n",
       "\\item 8.36389170909888\n",
       "\\item 0.264165333046467\n",
       "\\item 29.9999999839756\n",
       "\\item 3.51935100768558\n",
       "\\item 0.01\n",
       "\\item 0.01\n",
       "\\item 22.1069764878675\n",
       "\\end{enumerate*}\n",
       "\n",
       "\\item[\\$value] -340.686231468177\n",
       "\\item[\\$counts] \\begin{description*}\n",
       "\\item[function] 541\n",
       "\\item[gradient] 541\n",
       "\\end{description*}\n",
       "\n",
       "\\item[\\$convergence] 0\n",
       "\\item[\\$message] 'CONVERGENCE: REL\\_REDUCTION\\_OF\\_F <= FACTR*EPSMCH'\n",
       "\\end{description}\n"
      ],
      "text/markdown": [
       "$par\n",
       ":   1. 0.754519322239794\n",
       "2. 8.36389170909888\n",
       "3. 0.264165333046467\n",
       "4. 29.9999999839756\n",
       "5. 3.51935100768558\n",
       "6. 0.01\n",
       "7. 0.01\n",
       "8. 22.1069764878675\n",
       "\n",
       "\n",
       "\n",
       "$value\n",
       ":   -340.686231468177\n",
       "$counts\n",
       ":   function\n",
       ":   541gradient\n",
       ":   541\n",
       "\n",
       "\n",
       "$convergence\n",
       ":   0\n",
       "$message\n",
       ":   'CONVERGENCE: REL_REDUCTION_OF_F &lt;= FACTR*EPSMCH'\n",
       "\n",
       "\n"
      ],
      "text/plain": [
       "$par\n",
       "[1]  0.7545193  8.3638917  0.2641653 30.0000000  3.5193510  0.0100000  0.0100000\n",
       "[8] 22.1069765\n",
       "\n",
       "$value\n",
       "[1] -340.6862\n",
       "\n",
       "$counts\n",
       "function gradient \n",
       "     541      541 \n",
       "\n",
       "$convergence\n",
       "[1] 0\n",
       "\n",
       "$message\n",
       "[1] \"CONVERGENCE: REL_REDUCTION_OF_F <= FACTR*EPSMCH\"\n"
      ]
     },
     "metadata": {},
     "output_type": "display_data"
    }
   ],
   "source": [
    "estimate_dt1d(start_par = c(0.5,0.5,0.5,0.5,0.5,0.5,0.5,20),df=data,lower=0.01,upper=30)"
   ]
  },
  {
   "cell_type": "code",
   "execution_count": null,
   "metadata": {
    "vscode": {
     "languageId": "r"
    }
   },
   "outputs": [],
   "source": []
  }
 ],
 "metadata": {
  "kernelspec": {
   "display_name": "R",
   "language": "R",
   "name": "ir"
  },
  "language_info": {
   "codemirror_mode": "r",
   "file_extension": ".r",
   "mimetype": "text/x-r-source",
   "name": "R",
   "pygments_lexer": "r",
   "version": "4.4.2"
  }
 },
 "nbformat": 4,
 "nbformat_minor": 2
}
