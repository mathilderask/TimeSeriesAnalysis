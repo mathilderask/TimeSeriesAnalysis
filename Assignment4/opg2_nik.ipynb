{
 "cells": [
  {
   "cell_type": "code",
   "execution_count": 38,
   "metadata": {
    "vscode": {
     "languageId": "r"
    }
   },
   "outputs": [],
   "source": [
    "files <- dir(\"functions\",full.names=TRUE)\n",
    "for(i in 1:length(files)) source(files[i])\n",
    "data <- read.csv(\"transformer_data.csv\", header = TRUE, sep = \",\")"
   ]
  },
  {
   "cell_type": "code",
   "execution_count": null,
   "metadata": {
    "vscode": {
     "languageId": "r"
    }
   },
   "outputs": [
    {
     "name": "stdout",
     "output_type": "stream",
     "text": [
      "iter   10 value 466.178268\n",
      "iter   20 value 309.604073\n",
      "iter   30 value 290.335387\n",
      "iter   40 value 278.290817\n",
      "iter   50 value 275.457283\n",
      "iter   60 value 273.808518\n",
      "iter   70 value 272.294807\n",
      "iter   80 value 270.261042\n",
      "iter   90 value 269.904402\n",
      "iter  100 value 269.190887\n",
      "final  value 269.184542 \n",
      "converged\n"
     ]
    },
    {
     "data": {
      "text/html": [
       "<dl>\n",
       "\t<dt>$par</dt>\n",
       "\t\t<dd><style>\n",
       ".list-inline {list-style: none; margin:0; padding: 0}\n",
       ".list-inline>li {display: inline-block}\n",
       ".list-inline>li:not(:last-child)::after {content: \"\\00b7\"; padding: 0 .5ex}\n",
       "</style>\n",
       "<ol class=list-inline><li>0.764218547579207</li><li>5.64453007640281</li><li>0.184643524149618</li><li>19.9988745872723</li><li>19.1891885603021</li><li>0.0143106764808525</li><li>17.0547707139656</li><li>20</li></ol>\n",
       "</dd>\n",
       "\t<dt>$value</dt>\n",
       "\t\t<dd>269.184542382216</dd>\n",
       "\t<dt>$counts</dt>\n",
       "\t\t<dd><style>\n",
       ".dl-inline {width: auto; margin:0; padding: 0}\n",
       ".dl-inline>dt, .dl-inline>dd {float: none; width: auto; display: inline-block}\n",
       ".dl-inline>dt::after {content: \":\\0020\"; padding-right: .5ex}\n",
       ".dl-inline>dt:not(:first-of-type) {padding-left: .5ex}\n",
       "</style><dl class=dl-inline><dt>function</dt><dd>188</dd><dt>gradient</dt><dd>188</dd></dl>\n",
       "</dd>\n",
       "\t<dt>$convergence</dt>\n",
       "\t\t<dd>0</dd>\n",
       "\t<dt>$message</dt>\n",
       "\t\t<dd>'CONVERGENCE: REL_REDUCTION_OF_F &lt;= FACTR*EPSMCH'</dd>\n",
       "</dl>\n"
      ],
      "text/latex": [
       "\\begin{description}\n",
       "\\item[\\$par] \\begin{enumerate*}\n",
       "\\item 0.764218547579207\n",
       "\\item 5.64453007640281\n",
       "\\item 0.184643524149618\n",
       "\\item 19.9988745872723\n",
       "\\item 19.1891885603021\n",
       "\\item 0.0143106764808525\n",
       "\\item 17.0547707139656\n",
       "\\item 20\n",
       "\\end{enumerate*}\n",
       "\n",
       "\\item[\\$value] 269.184542382216\n",
       "\\item[\\$counts] \\begin{description*}\n",
       "\\item[function] 188\n",
       "\\item[gradient] 188\n",
       "\\end{description*}\n",
       "\n",
       "\\item[\\$convergence] 0\n",
       "\\item[\\$message] 'CONVERGENCE: REL\\_REDUCTION\\_OF\\_F <= FACTR*EPSMCH'\n",
       "\\end{description}\n"
      ],
      "text/markdown": [
       "$par\n",
       ":   1. 0.764218547579207\n",
       "2. 5.64453007640281\n",
       "3. 0.184643524149618\n",
       "4. 19.9988745872723\n",
       "5. 19.1891885603021\n",
       "6. 0.0143106764808525\n",
       "7. 17.0547707139656\n",
       "8. 20\n",
       "\n",
       "\n",
       "\n",
       "$value\n",
       ":   269.184542382216\n",
       "$counts\n",
       ":   function\n",
       ":   188gradient\n",
       ":   188\n",
       "\n",
       "\n",
       "$convergence\n",
       ":   0\n",
       "$message\n",
       ":   'CONVERGENCE: REL_REDUCTION_OF_F &lt;= FACTR*EPSMCH'\n",
       "\n",
       "\n"
      ],
      "text/plain": [
       "$par\n",
       "[1]  0.76421855  5.64453008  0.18464352 19.99887459 19.18918856  0.01431068\n",
       "[7] 17.05477071 20.00000000\n",
       "\n",
       "$value\n",
       "[1] 269.1845\n",
       "\n",
       "$counts\n",
       "function gradient \n",
       "     188      188 \n",
       "\n",
       "$convergence\n",
       "[1] 0\n",
       "\n",
       "$message\n",
       "[1] \"CONVERGENCE: REL_REDUCTION_OF_F <= FACTR*EPSMCH\"\n"
      ]
     },
     "metadata": {},
     "output_type": "display_data"
    }
   ],
   "source": [
    "estimate_dt1d(start_par = c(0.5,0.5,0.5,0.5,0.5,0.5,0.5),df=data,lower=0.01,upper=20)"
   ]
  },
  {
   "cell_type": "code",
   "execution_count": null,
   "metadata": {
    "vscode": {
     "languageId": "r"
    }
   },
   "outputs": [],
   "source": []
  }
 ],
 "metadata": {
  "kernelspec": {
   "display_name": "R",
   "language": "R",
   "name": "ir"
  },
  "language_info": {
   "codemirror_mode": "r",
   "file_extension": ".r",
   "mimetype": "text/x-r-source",
   "name": "R",
   "pygments_lexer": "r",
   "version": "4.4.2"
  }
 },
 "nbformat": 4,
 "nbformat_minor": 2
}
