{
 "cells": [
  {
   "cell_type": "markdown",
   "id": "331fee43",
   "metadata": {},
   "source": [
    "### Task 2"
   ]
  },
  {
   "cell_type": "markdown",
   "id": "1c80f882",
   "metadata": {},
   "source": [
    "#### Task 2.1"
   ]
  },
  {
   "cell_type": "code",
   "execution_count": null,
   "id": "e36a4ab8",
   "metadata": {
    "vscode": {
     "languageId": "r"
    }
   },
   "outputs": [
    {
     "data": {
      "text/html": [
       "<table class=\"dataframe\">\n",
       "<caption>A data.frame: 6 × 5</caption>\n",
       "<thead>\n",
       "\t<tr><th></th><th scope=col>time</th><th scope=col>Y</th><th scope=col>Ta</th><th scope=col>S</th><th scope=col>I</th></tr>\n",
       "\t<tr><th></th><th scope=col>&lt;int&gt;</th><th scope=col>&lt;dbl&gt;</th><th scope=col>&lt;dbl&gt;</th><th scope=col>&lt;dbl&gt;</th><th scope=col>&lt;dbl&gt;</th></tr>\n",
       "</thead>\n",
       "<tbody>\n",
       "\t<tr><th scope=row>1</th><td>1</td><td>23.49673</td><td>7.083333</td><td>0</td><td>15.89954</td></tr>\n",
       "\t<tr><th scope=row>2</th><td>2</td><td>22.72033</td><td>7.116667</td><td>0</td><td>15.86177</td></tr>\n",
       "\t<tr><th scope=row>3</th><td>3</td><td>22.05270</td><td>7.216667</td><td>0</td><td>16.12147</td></tr>\n",
       "\t<tr><th scope=row>4</th><td>4</td><td>21.53805</td><td>7.250000</td><td>0</td><td>15.44763</td></tr>\n",
       "\t<tr><th scope=row>5</th><td>5</td><td>20.99503</td><td>7.316667</td><td>0</td><td>16.25832</td></tr>\n",
       "\t<tr><th scope=row>6</th><td>6</td><td>20.61153</td><td>7.483333</td><td>0</td><td>16.63265</td></tr>\n",
       "</tbody>\n",
       "</table>\n"
      ],
      "text/latex": [
       "A data.frame: 6 × 5\n",
       "\\begin{tabular}{r|lllll}\n",
       "  & time & Y & Ta & S & I\\\\\n",
       "  & <int> & <dbl> & <dbl> & <dbl> & <dbl>\\\\\n",
       "\\hline\n",
       "\t1 & 1 & 23.49673 & 7.083333 & 0 & 15.89954\\\\\n",
       "\t2 & 2 & 22.72033 & 7.116667 & 0 & 15.86177\\\\\n",
       "\t3 & 3 & 22.05270 & 7.216667 & 0 & 16.12147\\\\\n",
       "\t4 & 4 & 21.53805 & 7.250000 & 0 & 15.44763\\\\\n",
       "\t5 & 5 & 20.99503 & 7.316667 & 0 & 16.25832\\\\\n",
       "\t6 & 6 & 20.61153 & 7.483333 & 0 & 16.63265\\\\\n",
       "\\end{tabular}\n"
      ],
      "text/markdown": [
       "\n",
       "A data.frame: 6 × 5\n",
       "\n",
       "| <!--/--> | time &lt;int&gt; | Y &lt;dbl&gt; | Ta &lt;dbl&gt; | S &lt;dbl&gt; | I &lt;dbl&gt; |\n",
       "|---|---|---|---|---|---|\n",
       "| 1 | 1 | 23.49673 | 7.083333 | 0 | 15.89954 |\n",
       "| 2 | 2 | 22.72033 | 7.116667 | 0 | 15.86177 |\n",
       "| 3 | 3 | 22.05270 | 7.216667 | 0 | 16.12147 |\n",
       "| 4 | 4 | 21.53805 | 7.250000 | 0 | 15.44763 |\n",
       "| 5 | 5 | 20.99503 | 7.316667 | 0 | 16.25832 |\n",
       "| 6 | 6 | 20.61153 | 7.483333 | 0 | 16.63265 |\n",
       "\n"
      ],
      "text/plain": [
       "  time Y        Ta       S I       \n",
       "1 1    23.49673 7.083333 0 15.89954\n",
       "2 2    22.72033 7.116667 0 15.86177\n",
       "3 3    22.05270 7.216667 0 16.12147\n",
       "4 4    21.53805 7.250000 0 15.44763\n",
       "5 5    20.99503 7.316667 0 16.25832\n",
       "6 6    20.61153 7.483333 0 16.63265"
      ]
     },
     "metadata": {},
     "output_type": "display_data"
    }
   ],
   "source": [
    "# Load data (csv file)\n",
    "data <- read.csv(\"transformer_data.csv\", header = TRUE, sep = \",\")\n",
    "# Display the first few rows of the data\n",
    "head(data)"
   ]
  },
  {
   "cell_type": "code",
   "execution_count": null,
   "id": "a5aa30bd",
   "metadata": {
    "vscode": {
     "languageId": "r"
    }
   },
   "outputs": [
    {
     "data": {
      "text/html": [
       "<strong>pdf:</strong> 2"
      ],
      "text/latex": [
       "\\textbf{pdf:} 2"
      ],
      "text/markdown": [
       "**pdf:** 2"
      ],
      "text/plain": [
       "pdf \n",
       "  2 "
      ]
     },
     "metadata": {},
     "output_type": "display_data"
    }
   ],
   "source": [
    "# Plot data\n",
    "\n",
    "png(\"2_zoom_out_plot_dual_axis.png\", width = 12, height = 6, units = \"in\", res = 300)\n",
    "\n",
    "# Plot main variables (temperature in °C)\n",
    "par(bg = \"white\", mar = c(5, 4, 4, 4) + 0.1)  # Leave space on right for second y-axis\n",
    "plot(data$Y, type = \"l\", col = \"blue\", xlab = \"Time (h)\", ylab = \"Temperature (°C)\", \n",
    "     main = \"Transformer Data with Solar Radiance\", \n",
    "     ylim = range(c(data$Y, data$Ta, data$I)), lwd = 2)\n",
    "lines(data$Ta, col = \"springgreen2\", lwd = 2)\n",
    "lines(data$I, col = \"magenta2\", lwd = 2)\n",
    "\n",
    "# Add solar radiance (S) on a secondary axis\n",
    "par(new = TRUE)\n",
    "plot(data$S, type = \"l\", col = \"goldenrod2\", axes = FALSE, xlab = \"\", ylab = \"\", lwd = 2)\n",
    "axis(side = 4, col = \"goldenrod2\", col.axis = \"goldenrod2\")\n",
    "mtext(\"Solar Radiance (W/m²)\", side = 4, line = 3, col = \"goldenrod2\")\n",
    "\n",
    "# Legend\n",
    "legend(\"topright\", \n",
    "       legend = c(\"Y (°C)\", \"Ta (°C)\", \"I (°C)\", \"S (W/m²)\"), \n",
    "       col = c(\"blue\", \"springgreen2\", \"magenta2\", \"goldenrod2\"), \n",
    "       lty = 1, lwd = 2)\n",
    "\n",
    "dev.off()\n"
   ]
  },
  {
   "cell_type": "markdown",
   "id": "f47478f8",
   "metadata": {},
   "source": [
    "### Task 2.2"
   ]
  },
  {
   "cell_type": "code",
   "execution_count": null,
   "id": "3771462e",
   "metadata": {
    "vscode": {
     "languageId": "r"
    }
   },
   "outputs": [],
   "source": [
    "# Functions Exercise 2\n",
    "kf_logLik_dt <- function(par, df) {\n",
    "  # par: vector of parameters\n",
    "  # df: data frame with observations and inputs as columns (Y, Ta, S, I)\n",
    "  # par: Could be on the form c(A11, A12, A21, A22, B11, B12, B21, B22, Q11, Q12, Q22)\n",
    "  A   <- matrix() # transition matrix\n",
    "  B   <- matrix() # input matrix\n",
    "  Sigma1lt <- matrix() # lower-triangle of system covariance matrix\n",
    "  Sigma1   <- Sigma1lt %*% t(Sigma1lt) # THAT IS!!! The system covariance matrix is given by Qlt %*% t(Qlt) (and is this symmetric positive definite)\n",
    "  C   <- matrix() # observation matrix\n",
    "  Sigma2 <- matrix() # observation noise covariance matrix\n",
    "  X0  <- matrix() # initial state\n",
    "\n",
    "  # Variables\n",
    "  obs_cols <- c(\"Y\") # observation column names\n",
    "  input_cols <- c(\"Ta\",\"S\",\"I\") # input column names\n",
    "\n",
    "  # pull out data\n",
    "  Y  <- as.matrix(df[, obs_cols])     # m×T\n",
    "  U  <- as.matrix(df[, input_cols])   # p×T\n",
    "  Tn <- nrow(df)\n",
    "\n",
    "  # init\n",
    "  n      <- nrow(A)\n",
    "  x_est  <- matrix(Y[1,], n, 1)            # start state from first obs\n",
    "  x_est <- X0 \n",
    "  P_est  <- diag(1e1, n)                   # X0 prior covariance\n",
    "  logLik <- 0\n",
    "\n",
    "  for (t in 1:Tn) {\n",
    "    # prediction step\n",
    "    x_pred <- # write the prediction step\n",
    "    P_pred <- # write the prediction step (Sigma_xx)\n",
    "\n",
    "    # innovation step\n",
    "    y_pred  <- # predicted observation\n",
    "    S_t     <- # predicted observation covariance (Sigma_yy)\n",
    "    innov   <- # innovation (one-step prediction error)\n",
    "\n",
    "    # log-likelihood contribution\n",
    "    logLik <- logLik - 0.5*(sum(log(2*pi*S_t)) + t(innov) %*% solve(S_t, innov))\n",
    "\n",
    "    # update step\n",
    "    K_t    <- # Kalman gain\n",
    "    x_est  <- # reconstructed state\n",
    "    P_est  <- 1 # reconstructed covariance\n",
    "  }\n",
    "\n",
    "  as.numeric(logLik)\n",
    "}\n",
    "\n",
    "\n"
   ]
  },
  {
   "cell_type": "code",
   "execution_count": null,
   "id": "f674fbe7",
   "metadata": {
    "vscode": {
     "languageId": "r"
    }
   },
   "outputs": [],
   "source": [
    "# Optimizer wrapper\n",
    "estimate_dt <- function(start_par, df, lower=NULL, upper=NULL) {\n",
    "  negLL <- function(par){ -kf_logLik_dt(par, df) }\n",
    "  optim(\n",
    "    par    = start_par, fn = negLL,\n",
    "    method = \"L-BFGS-B\",\n",
    "    lower  = lower, upper = upper,\n",
    "    control= list(maxit=1000, trace=1)\n",
    "  )\n",
    "}"
   ]
  }
 ],
 "metadata": {
  "kernelspec": {
   "display_name": "R",
   "language": "R",
   "name": "ir"
  },
  "language_info": {
   "codemirror_mode": "r",
   "file_extension": ".r",
   "mimetype": "text/x-r-source",
   "name": "R",
   "pygments_lexer": "r",
   "version": "4.4.2"
  }
 },
 "nbformat": 4,
 "nbformat_minor": 5
}
