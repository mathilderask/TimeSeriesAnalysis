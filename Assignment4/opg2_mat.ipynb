{
 "cells": [
  {
   "cell_type": "markdown",
   "id": "331fee43",
   "metadata": {},
   "source": [
    "### Task 2"
   ]
  },
  {
   "cell_type": "markdown",
   "id": "1c80f882",
   "metadata": {},
   "source": [
    "#### Task 2.1"
   ]
  },
  {
   "cell_type": "code",
   "execution_count": 1,
   "id": "e36a4ab8",
   "metadata": {
    "vscode": {
     "languageId": "r"
    }
   },
   "outputs": [
    {
     "data": {
      "text/html": [
       "<table class=\"dataframe\">\n",
       "<caption>A data.frame: 6 × 5</caption>\n",
       "<thead>\n",
       "\t<tr><th></th><th scope=col>time</th><th scope=col>Y</th><th scope=col>Ta</th><th scope=col>S</th><th scope=col>I</th></tr>\n",
       "\t<tr><th></th><th scope=col>&lt;int&gt;</th><th scope=col>&lt;dbl&gt;</th><th scope=col>&lt;dbl&gt;</th><th scope=col>&lt;dbl&gt;</th><th scope=col>&lt;dbl&gt;</th></tr>\n",
       "</thead>\n",
       "<tbody>\n",
       "\t<tr><th scope=row>1</th><td>1</td><td>23.49673</td><td>7.083333</td><td>0</td><td>15.89954</td></tr>\n",
       "\t<tr><th scope=row>2</th><td>2</td><td>22.72033</td><td>7.116667</td><td>0</td><td>15.86177</td></tr>\n",
       "\t<tr><th scope=row>3</th><td>3</td><td>22.05270</td><td>7.216667</td><td>0</td><td>16.12147</td></tr>\n",
       "\t<tr><th scope=row>4</th><td>4</td><td>21.53805</td><td>7.250000</td><td>0</td><td>15.44763</td></tr>\n",
       "\t<tr><th scope=row>5</th><td>5</td><td>20.99503</td><td>7.316667</td><td>0</td><td>16.25832</td></tr>\n",
       "\t<tr><th scope=row>6</th><td>6</td><td>20.61153</td><td>7.483333</td><td>0</td><td>16.63265</td></tr>\n",
       "</tbody>\n",
       "</table>\n"
      ],
      "text/latex": [
       "A data.frame: 6 × 5\n",
       "\\begin{tabular}{r|lllll}\n",
       "  & time & Y & Ta & S & I\\\\\n",
       "  & <int> & <dbl> & <dbl> & <dbl> & <dbl>\\\\\n",
       "\\hline\n",
       "\t1 & 1 & 23.49673 & 7.083333 & 0 & 15.89954\\\\\n",
       "\t2 & 2 & 22.72033 & 7.116667 & 0 & 15.86177\\\\\n",
       "\t3 & 3 & 22.05270 & 7.216667 & 0 & 16.12147\\\\\n",
       "\t4 & 4 & 21.53805 & 7.250000 & 0 & 15.44763\\\\\n",
       "\t5 & 5 & 20.99503 & 7.316667 & 0 & 16.25832\\\\\n",
       "\t6 & 6 & 20.61153 & 7.483333 & 0 & 16.63265\\\\\n",
       "\\end{tabular}\n"
      ],
      "text/markdown": [
       "\n",
       "A data.frame: 6 × 5\n",
       "\n",
       "| <!--/--> | time &lt;int&gt; | Y &lt;dbl&gt; | Ta &lt;dbl&gt; | S &lt;dbl&gt; | I &lt;dbl&gt; |\n",
       "|---|---|---|---|---|---|\n",
       "| 1 | 1 | 23.49673 | 7.083333 | 0 | 15.89954 |\n",
       "| 2 | 2 | 22.72033 | 7.116667 | 0 | 15.86177 |\n",
       "| 3 | 3 | 22.05270 | 7.216667 | 0 | 16.12147 |\n",
       "| 4 | 4 | 21.53805 | 7.250000 | 0 | 15.44763 |\n",
       "| 5 | 5 | 20.99503 | 7.316667 | 0 | 16.25832 |\n",
       "| 6 | 6 | 20.61153 | 7.483333 | 0 | 16.63265 |\n",
       "\n"
      ],
      "text/plain": [
       "  time Y        Ta       S I       \n",
       "1 1    23.49673 7.083333 0 15.89954\n",
       "2 2    22.72033 7.116667 0 15.86177\n",
       "3 3    22.05270 7.216667 0 16.12147\n",
       "4 4    21.53805 7.250000 0 15.44763\n",
       "5 5    20.99503 7.316667 0 16.25832\n",
       "6 6    20.61153 7.483333 0 16.63265"
      ]
     },
     "metadata": {},
     "output_type": "display_data"
    }
   ],
   "source": [
    "# Load data (csv file)\n",
    "data <- read.csv(\"transformer_data.csv\", header = TRUE, sep = \",\")\n",
    "# Display the first few rows of the data\n",
    "head(data)"
   ]
  },
  {
   "cell_type": "code",
   "execution_count": 2,
   "id": "a5aa30bd",
   "metadata": {
    "vscode": {
     "languageId": "r"
    }
   },
   "outputs": [
    {
     "data": {
      "text/html": [
       "<strong>pdf:</strong> 2"
      ],
      "text/latex": [
       "\\textbf{pdf:} 2"
      ],
      "text/markdown": [
       "**pdf:** 2"
      ],
      "text/plain": [
       "pdf \n",
       "  2 "
      ]
     },
     "metadata": {},
     "output_type": "display_data"
    }
   ],
   "source": [
    "# Plot data\n",
    "\n",
    "png(\"2_zoom_out_plot_dual_axis.png\", width = 12, height = 6, units = \"in\", res = 300)\n",
    "\n",
    "# Plot main variables (temperature in °C)\n",
    "par(bg = \"white\", mar = c(5, 4, 4, 4) + 0.1)  # Leave space on right for second y-axis\n",
    "plot(data$Y, type = \"l\", col = \"blue\", xlab = \"Time (h)\", ylab = \"Temperature (°C)\", \n",
    "     main = \"Transformer Data with Solar Radiance\", \n",
    "     ylim = range(c(data$Y, data$Ta, data$I)), lwd = 2)\n",
    "lines(data$Ta, col = \"springgreen2\", lwd = 2)\n",
    "lines(data$I, col = \"magenta2\", lwd = 2)\n",
    "\n",
    "# Add additional y-axis label for \"Load\" in pink\n",
    "mtext(\"Load (kA)\", side = 2, line = 2, col = \"magenta2\", at = mean(par(\"usr\")[3:4]))\n",
    "\n",
    "# Add solar radiance (S) on a secondary axis\n",
    "par(new = TRUE)\n",
    "plot(data$S, type = \"l\", col = \"goldenrod2\", axes = FALSE, xlab = \"\", ylab = \"\", lwd = 2)\n",
    "axis(side = 4, col = \"goldenrod2\", col.axis = \"goldenrod2\")\n",
    "mtext(\"Solar Radiance (W/m²)\", side = 4, line = 3, col = \"goldenrod2\")\n",
    "\n",
    "# Legend\n",
    "legend(\"topright\", \n",
    "       legend = c(\"Y (°C)\", \"Ta (°C)\", \"I (kA)\", \"S (W/m²)\"), \n",
    "       col = c(\"blue\", \"springgreen2\", \"magenta2\", \"goldenrod2\"), \n",
    "       lty = 1, lwd = 2)\n",
    "\n",
    "dev.off()\n"
   ]
  },
  {
   "cell_type": "markdown",
   "id": "f47478f8",
   "metadata": {},
   "source": [
    "### Task 2.2"
   ]
  },
  {
   "cell_type": "code",
   "execution_count": null,
   "id": "3771462e",
   "metadata": {
    "vscode": {
     "languageId": "r"
    }
   },
   "outputs": [],
   "source": [
    "# Functions Exercise 2\n",
    "kf_logLik_dt <- function(par, df) {\n",
    "  # par: vector of parameters\n",
    "  # df: data frame with observations and inputs as columns (Y, Ta, S, I)\n",
    "  # par: Could be on the form c(A11, A12, A21, A22, B11, B12, B21, B22, Q11, Q12, Q22)\n",
    "  A   <- matrix(par[1:4]) # transition matrix\n",
    "  B   <- matrix(par[5:8]) # input matrix\n",
    "  Qlt <- matrix(par[9:11]) # lower-triangle of system covariance matrix\n",
    "  Q_mat <- Qlt %*% t(Qlt) # system covariance matrix\n",
    "  Sigma1lt <- matrix(Q_mat) # lower-triangle of system covariance matrix\n",
    "  # The system covariance matrix is given by Qlt %*% t(Qlt) and is symmetric positive definite\n",
    "  Sigma1   <- Sigma1lt %*% t(Sigma1lt)\n",
    "  C   <- matrix(1) # observation matrix\n",
    "  Sigma2 <- matrix() # observation noise covariance matrix\n",
    "  X0  <- matrix(20) # initial state\n",
    "\n",
    "  # Variables\n",
    "  obs_cols <- c(\"Y\") # observation column names\n",
    "  input_cols <- c(\"Ta\",\"S\",\"I\") # input column names\n",
    "\n",
    "  # pull out data\n",
    "  Y  <- as.matrix(df[, obs_cols])     # m×T\n",
    "  U  <- as.matrix(df[, input_cols])   # p×T\n",
    "  Tn <- nrow(df)\n",
    "\n",
    "  # init\n",
    "  n      <- nrow(A)\n",
    "  x_est  <- matrix(Y[1,], n, 1)            # start state from first obs\n",
    "  x_est <- X0 \n",
    "  P_est  <- diag(1e1, n)                   # X0 prior covariance\n",
    "  logLik <- 0\n",
    "\n",
    "  for (t in 1:Tn) {\n",
    "    # prediction step\n",
    "    # write the prediction step\n",
    "    x_pred <- A %*% x_est + B %*% matrix(U[t, ], ncol = 1)\n",
    "    # write the prediction step (Sigma_xx)\n",
    "    P_pred <- A %*% P_est %*% t(A) + Sigma1 # Variance of prediction\n",
    "\n",
    "    # innovation step\n",
    "    y_pred  <- C %*% x_est                                    # predicted observation\n",
    "    S_t     <- C %*% P_est %*% t(C) + Sigma2                           # predicted observation covariance (Sigma_yy)\n",
    "    innov   <- Y[t, ] - y_pred                                # innovation (one-step prediction error)\n",
    "\n",
    "    # log-likelihood contribution\n",
    "    logLik <- logLik - 0.5*(sum(log(2*pi*S_t)) + t(innov) %*% solve(S_t, innov))\n",
    "\n",
    "    # update step\n",
    "    K_t    <- P_pred[t] / innov[t] # Kalman gain\n",
    "    x_est  <- x_pred[t] + K_t * innov[t] # reconstructed state\n",
    "    P_est  <- P_pred[t] - K_t * P_pred[t] # reconstructed covariance\n",
    "  }\n",
    "\n",
    "  as.numeric(logLik)\n",
    "}"
   ]
  },
  {
   "cell_type": "code",
   "execution_count": 18,
   "id": "f674fbe7",
   "metadata": {
    "vscode": {
     "languageId": "r"
    }
   },
   "outputs": [],
   "source": [
    "# Optimizer wrapper\n",
    "estimate_dt <- function(start_par, df, lower=NULL, upper=NULL) {\n",
    "  negLL <- function(par){ -kf_logLik_dt(par, df) }\n",
    "  optim(\n",
    "    par    = start_par, fn = negLL,\n",
    "    method = \"L-BFGS-B\",\n",
    "    lower  = lower, upper = upper,\n",
    "    control= list(maxit=1000, trace=1)\n",
    "  )\n",
    "}"
   ]
  },
  {
   "cell_type": "code",
   "execution_count": 19,
   "id": "73d0a49c",
   "metadata": {
    "vscode": {
     "languageId": "r"
    }
   },
   "outputs": [],
   "source": [
    "# Setting starting parameter values\n",
    "start_par <- c(\n",
    "  0.1, 0.2, 0.3, 0.4, # A\n",
    "  0.5, 0.6, 0.7, 0.8, # B\n",
    "  0.9, 1.0, 1.1      # Q\n",
    ")\n",
    "\n",
    "lower_bound <- c(\n",
    "  0.0, 0.0, 0.0, 0.0, # A\n",
    "  0.0, 0.0, 0.0, 0.0, # B\n",
    "  1e-3, 1e-3, 1e-3   # Q\n",
    ")\n",
    "\n",
    "upper_bound <- c(\n",
    "  1.0, 1.0, 1.0, 1.0, # A\n",
    "  1.0, 1.0, 1.0, 1.0, # B\n",
    "  1e3, 1e3, 1e3      # Q\n",
    ")"
   ]
  },
  {
   "cell_type": "code",
   "execution_count": null,
   "id": "7b752923",
   "metadata": {
    "vscode": {
     "languageId": "r"
    }
   },
   "outputs": [],
   "source": [
    "kf_logLik_dt2 <- function(par, df) {\n",
    "  # par: vector of parameters\n",
    "  # df: data frame with observations and inputs as columns (Y, Ta, S, I)\n",
    "  # par: c(A11, A12, A21, A22, B11, B12, B21, B22, Q, R, x0)\n",
    "  # A: 2x2, B: 2x3, Q: scalar, R: scalar, x0: scalar\n",
    "\n",
    "  # Define dimensions\n",
    "  n <- 2  # state dimension\n",
    "  m <- 1  # observation dimension\n",
    "  p <- 3  # input dimension\n",
    "\n",
    "  # Extract parameters\n",
    "  A <- matrix(par[1:4], nrow = n, ncol = n, byrow = TRUE)\n",
    "  B <- matrix(par[5:10], nrow = n, ncol = p, byrow = TRUE)\n",
    "  Q <- diag(abs(par[11]), n)  # process noise covariance (positive)\n",
    "  R <- matrix(abs(par[12]), m, m)  # observation noise covariance (positive)\n",
    "  C <- matrix(c(1, 0), nrow = m, ncol = n)  # observation matrix (fixed)\n",
    "  x0 <- matrix(par[13], nrow = n, ncol = 1)  # initial state\n",
    "\n",
    "  # Variables\n",
    "  obs_cols <- c(\"Y\") # observation column names\n",
    "  input_cols <- c(\"Ta\",\"S\",\"I\") # input column names\n",
    "\n",
    "  # pull out data\n",
    "  Y  <- as.matrix(df[, obs_cols])     # T x m\n",
    "  U  <- as.matrix(df[, input_cols])   # T x p\n",
    "  Tn <- nrow(df)\n",
    "\n",
    "  # init\n",
    "  x_est  <- x0\n",
    "  P_est  <- diag(1e1, n)\n",
    "  logLik <- 0\n",
    "\n",
    "  for (t in 1:Tn) {\n",
    "    # prediction step\n",
    "    x_pred <- A %*% x_est + B %*% U[t, ]\n",
    "    P_pred <- A %*% P_est %*% t(A) + Q\n",
    "\n",
    "    # innovation step\n",
    "    y_pred  <- C %*% x_pred\n",
    "    S_t     <- C %*% P_pred %*% t(C) + R\n",
    "    innov   <- Y[t, ] - y_pred\n",
    "\n",
    "    # log-likelihood contribution\n",
    "    logLik <- logLik - 0.5 * (log(det(2 * pi * S_t)) + t(innov) %*% solve(S_t, innov))\n",
    "\n",
    "    # update step\n",
    "    K_t    <- P_pred %*% t(C) %*% solve(S_t)\n",
    "    x_est  <- x_pred + K_t %*% innov\n",
    "    P_est  <- (diag(n) - K_t %*% C) %*% P_pred\n",
    "  }\n",
    "\n",
    "  as.numeric(logLik)\n",
    "}"
   ]
  },
  {
   "cell_type": "code",
   "execution_count": 21,
   "id": "aef39bb9",
   "metadata": {
    "vscode": {
     "languageId": "r"
    }
   },
   "outputs": [
    {
     "ename": "ERROR",
     "evalue": "Error in B %*% matrix(U[t, ], ncol = 1): non-conformable arguments\n",
     "output_type": "error",
     "traceback": [
      "Error in B %*% matrix(U[t, ], ncol = 1): non-conformable arguments\nTraceback:\n",
      "1. .handleSimpleError(function (cnd) \n . {\n .     watcher$capture_plot_and_output()\n .     cnd <- sanitize_call(cnd)\n .     watcher$push(cnd)\n .     switch(on_error, continue = invokeRestart(\"eval_continue\"), \n .         stop = invokeRestart(\"eval_stop\"), error = NULL)\n . }, \"non-conformable arguments\", base::quote(B %*% matrix(U[t, \n .     ], ncol = 1)))"
     ]
    }
   ],
   "source": [
    "# Run function\n",
    "\n",
    "kf_logLik_dt(start_par, data)\n",
    "estimate_dt(start_par, data, lower_bound, upper_bound)"
   ]
  },
  {
   "cell_type": "code",
   "execution_count": null,
   "id": "8e81f743",
   "metadata": {
    "vscode": {
     "languageId": "r"
    }
   },
   "outputs": [],
   "source": []
  }
 ],
 "metadata": {
  "kernelspec": {
   "display_name": "R",
   "language": "R",
   "name": "ir"
  },
  "language_info": {
   "codemirror_mode": "r",
   "file_extension": ".r",
   "mimetype": "text/x-r-source",
   "name": "R",
   "pygments_lexer": "r",
   "version": "4.4.2"
  }
 },
 "nbformat": 4,
 "nbformat_minor": 5
}
